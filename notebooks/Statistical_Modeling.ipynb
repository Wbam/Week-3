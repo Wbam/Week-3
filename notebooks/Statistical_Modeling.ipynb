{
 "cells": [
  {
   "cell_type": "markdown",
   "metadata": {},
   "source": [
    "<font size = '5' ><b>Data preparetion</b></font>"
   ]
  },
  {
   "cell_type": "code",
   "execution_count": 4,
   "metadata": {},
   "outputs": [
    {
     "name": "stdout",
     "output_type": "stream",
     "text": [
      "\n",
      "Data Types of Each Column:\n",
      "UnderwrittenCoverID           int64\n",
      "PolicyID                      int64\n",
      "TransactionMonth             object\n",
      "IsVATRegistered                bool\n",
      "Citizenship                  object\n",
      "LegalType                    object\n",
      "Title                        object\n",
      "Language                     object\n",
      "Bank                         object\n",
      "AccountType                  object\n",
      "MaritalStatus                object\n",
      "Gender                       object\n",
      "Country                      object\n",
      "Province                     object\n",
      "PostalCode                    int64\n",
      "MainCrestaZone               object\n",
      "SubCrestaZone                object\n",
      "ItemType                     object\n",
      "mmcode                      float64\n",
      "VehicleType                  object\n",
      "RegistrationYear              int64\n",
      "make                         object\n",
      "Model                        object\n",
      "Cylinders                   float64\n",
      "cubiccapacity               float64\n",
      "kilowatts                   float64\n",
      "bodytype                     object\n",
      "NumberOfDoors               float64\n",
      "VehicleIntroDate             object\n",
      "CustomValueEstimate         float64\n",
      "AlarmImmobiliser             object\n",
      "TrackingDevice               object\n",
      "CapitalOutstanding           object\n",
      "NewVehicle                   object\n",
      "WrittenOff                   object\n",
      "Rebuilt                      object\n",
      "Converted                    object\n",
      "CrossBorder                  object\n",
      "NumberOfVehiclesInFleet     float64\n",
      "SumInsured                  float64\n",
      "TermFrequency                object\n",
      "CalculatedPremiumPerTerm    float64\n",
      "ExcessSelected               object\n",
      "CoverCategory                object\n",
      "CoverType                    object\n",
      "CoverGroup                   object\n",
      "Section                      object\n",
      "Product                      object\n",
      "StatutoryClass               object\n",
      "StatutoryRiskType            object\n",
      "TotalPremium                float64\n",
      "TotalClaims                 float64\n",
      "dtype: object\n"
     ]
    }
   ],
   "source": [
    "import pandas as pd\n",
    "data = pd.read_csv('C:/Users/User/Desktop/10/MachineLearningRating_v3/MachineLearningRating_v3.txt', delimiter='|', low_memory=False)\n",
    "\n",
    "print(\"\\nData Types of Each Column:\")\n",
    "print(data.dtypes)\n",
    "\n"
   ]
  },
  {
   "cell_type": "markdown",
   "metadata": {},
   "source": [
    "<font size = '5'><b>Handling Missing Data</b></font>"
   ]
  },
  {
   "cell_type": "code",
   "execution_count": 5,
   "metadata": {},
   "outputs": [],
   "source": [
    "# Fill missing categorical data with a placeholder\n",
    "categorical_cols = ['Bank', 'AccountType', 'VehicleType', 'make', 'Model', 'bodytype', \n",
    "                     'AlarmImmobiliser', 'TrackingDevice', 'CapitalOutstanding', \n",
    "                     'NewVehicle', 'WrittenOff', 'Rebuilt', 'Converted', 'CrossBorder', \n",
    "                     'TermFrequency', 'ExcessSelected', 'CoverCategory', 'CoverType', \n",
    "                     'CoverGroup', 'Section', 'Product', 'StatutoryClass', 'StatutoryRiskType']\n",
    "\n",
    "data[categorical_cols] = data[categorical_cols].fillna('Unknown')\n"
   ]
  },
  {
   "cell_type": "code",
   "execution_count": 6,
   "metadata": {},
   "outputs": [],
   "source": [
    "# Fill missing numerical data with the median\n",
    "numerical_cols = ['mmcode', 'Cylinders', 'cubiccapacity', 'kilowatts', 'NumberOfDoors', \n",
    "                   'CustomValueEstimate', 'NumberOfVehiclesInFleet', 'SumInsured', \n",
    "                   'CalculatedPremiumPerTerm', 'TotalPremium', 'TotalClaims']\n",
    "\n",
    "data[numerical_cols] = data[numerical_cols].fillna(data[numerical_cols].median())\n"
   ]
  },
  {
   "cell_type": "code",
   "execution_count": 7,
   "metadata": {},
   "outputs": [],
   "source": [
    "data['TransactionMonth'] = pd.to_datetime(data['TransactionMonth'], errors='coerce')\n",
    "data['VehicleIntroDate'] = pd.to_datetime(data['VehicleIntroDate'], errors='coerce')\n",
    "\n",
    "data['TransactionMonth'].fillna(pd.Timestamp('1900-01-01'), inplace=True)\n",
    "data['VehicleIntroDate'].fillna(pd.Timestamp('1900-01-01'), inplace=True)\n"
   ]
  },
  {
   "cell_type": "markdown",
   "metadata": {},
   "source": [
    "<font size = '5'><b>Feature Engineering</b></font>"
   ]
  },
  {
   "cell_type": "code",
   "execution_count": 8,
   "metadata": {},
   "outputs": [],
   "source": [
    "import numpy as np\n",
    "\n",
    "data['CustomValuePerDoor'] = data['CustomValueEstimate'] / (data['NumberOfDoors'].replace(0, np.nan))\n",
    "data['PremiumPerKilowatt'] = data['CalculatedPremiumPerTerm'] / (data['kilowatts'].replace(0, np.nan))\n",
    "data['ClaimRatio'] = data['TotalClaims'] / (data['TotalPremium'].replace(0, np.nan))\n",
    "\n",
    "data.replace([np.inf, -np.inf], np.nan, inplace=True)\n",
    "data.fillna(0, inplace=True)\n"
   ]
  },
  {
   "cell_type": "markdown",
   "metadata": {},
   "source": [
    "<font size = '5'><b>Encoding Categorical Data</b></font>"
   ]
  },
  {
   "cell_type": "code",
   "execution_count": 9,
   "metadata": {},
   "outputs": [],
   "source": [
    "# Convert categorical columns to numeric format using one-hot encoding\n",
    "data_encoded = pd.get_dummies(data, columns=['Bank', 'AccountType', 'VehicleType', 'make', 'Model', \n",
    "                                             'bodytype', 'AlarmImmobiliser', 'TrackingDevice', \n",
    "                                             'CapitalOutstanding', 'NewVehicle', 'WrittenOff', \n",
    "                                             'Rebuilt', 'Converted', 'CrossBorder', 'TermFrequency', \n",
    "                                             'ExcessSelected', 'CoverCategory', 'CoverType', 'CoverGroup', \n",
    "                                             'Section', 'Product', 'StatutoryClass', 'StatutoryRiskType'])\n"
   ]
  },
  {
   "cell_type": "markdown",
   "metadata": {},
   "source": [
    "<font size = '5'><b>Train-Test Split</b></font>"
   ]
  },
  {
   "cell_type": "code",
   "execution_count": 10,
   "metadata": {},
   "outputs": [],
   "source": [
    "from sklearn.model_selection import train_test_split\n",
    "\n",
    "X = data_encoded.drop(['TotalPremium', 'TotalClaims'], axis=1)\n",
    "y_premium = data_encoded['TotalPremium']\n",
    "y_claims = data_encoded['TotalClaims']\n",
    "\n",
    "X_train, X_test, y_train_premium, y_test_premium = train_test_split(X, y_premium, test_size=0.3, random_state=42)\n",
    "X_train, X_test, y_train_claims, y_test_claims = train_test_split(X, y_claims, test_size=0.3, random_state=42)\n"
   ]
  },
  {
   "cell_type": "markdown",
   "metadata": {},
   "source": [
    "<font size ='5'><b> Modeling Techniques</b></font>"
   ]
  },
  {
   "cell_type": "code",
   "execution_count": 11,
   "metadata": {},
   "outputs": [],
   "source": [
    "X_train['Year'] = X_train['TransactionMonth'].dt.year\n",
    "X_train['Month'] = X_train['TransactionMonth'].dt.month\n",
    "X_train['Day'] = X_train['TransactionMonth'].dt.day\n",
    "\n",
    "X_test['Year'] = X_test['TransactionMonth'].dt.year\n",
    "X_test['Month'] = X_test['TransactionMonth'].dt.month\n",
    "X_test['Day'] = X_test['TransactionMonth'].dt.day\n",
    "\n",
    "X_train = X_train.drop('TransactionMonth', axis=1)\n",
    "X_test = X_test.drop('TransactionMonth', axis=1)\n",
    "\n"
   ]
  },
  {
   "cell_type": "code",
   "execution_count": 13,
   "metadata": {},
   "outputs": [],
   "source": [
    "X_train = X_train.apply(pd.to_numeric, errors='coerce')  \n"
   ]
  },
  {
   "cell_type": "code",
   "execution_count": 14,
   "metadata": {},
   "outputs": [],
   "source": [
    "X_train = X_train.fillna(X_train.mean())  \n",
    "y_train_premium = y_train_premium.fillna(y_train_premium.mean())  \n"
   ]
  },
  {
   "cell_type": "code",
   "execution_count": 15,
   "metadata": {},
   "outputs": [
    {
     "name": "stdout",
     "output_type": "stream",
     "text": [
      "X_train shape: (700068, 1296)\n",
      "y_train_premium shape: (700068,)\n"
     ]
    }
   ],
   "source": [
    "print(\"X_train shape:\", X_train.shape)\n",
    "print(\"y_train_premium shape:\", y_train_premium.shape)\n"
   ]
  },
  {
   "cell_type": "code",
   "execution_count": 16,
   "metadata": {},
   "outputs": [],
   "source": [
    "X_train = X_train.select_dtypes(include=[np.number])  "
   ]
  },
  {
   "cell_type": "code",
   "execution_count": 22,
   "metadata": {},
   "outputs": [
    {
     "name": "stdout",
     "output_type": "stream",
     "text": [
      "X_train_subset shape: (8000, 21)\n",
      "y_train_premium shape: (8000,)\n",
      "X_test_subset shape: (2000, 21)\n",
      "y_test_premium shape: (2000,)\n",
      "Linear Regression (Premium) RMSE: 111.52849159701782\n",
      "Linear Regression (Premium) R^2: 0.5035516173508323\n",
      "Random Forest (Premium) RMSE: 109.04847225272125\n",
      "Random Forest (Premium) R^2: 0.525384831076496\n",
      "XGBoost (Premium) RMSE: 112.17332848636933\n",
      "XGBoost (Premium) R^2: 0.49779427791251074\n"
     ]
    }
   ],
   "source": [
    "import warnings\n",
    "import numpy as np\n",
    "from sklearn.linear_model import LinearRegression\n",
    "from sklearn.ensemble import RandomForestRegressor\n",
    "import xgboost as xgb\n",
    "from sklearn.metrics import mean_squared_error, r2_score\n",
    "from sklearn.model_selection import train_test_split\n",
    "from sklearn.impute import SimpleImputer\n",
    "\n",
    "warnings.simplefilter(action='ignore', category=FutureWarning)\n",
    "warnings.simplefilter(action='ignore', category=UserWarning)\n",
    "\n",
    "data_subset = data.sample(n=10000, random_state=1)  \n",
    "\n",
    "X_subset = data_subset.drop(columns=['TotalPremium'])\n",
    "y_subset_premium = data_subset['TotalPremium']\n",
    "\n",
    "X_subset = X_subset.apply(pd.to_numeric, errors='coerce')\n",
    "y_subset_premium = pd.to_numeric(y_subset_premium, errors='coerce')\n",
    "\n",
    "imputer = SimpleImputer(strategy='mean')\n",
    "X_subset = imputer.fit_transform(X_subset)\n",
    "\n",
    "y_subset_premium = y_subset_premium.fillna(y_subset_premium.mean())\n",
    "\n",
    "X_subset = np.array(X_subset)\n",
    "y_subset_premium = np.array(y_subset_premium)\n",
    "\n",
    "X_train_subset, X_test_subset, y_train_premium, y_test_premium = train_test_split(\n",
    "    X_subset, y_subset_premium, test_size=0.2, random_state=42\n",
    ")\n",
    "\n",
    "print(f'X_train_subset shape: {X_train_subset.shape}')\n",
    "print(f'y_train_premium shape: {y_train_premium.shape}')\n",
    "print(f'X_test_subset shape: {X_test_subset.shape}')\n",
    "print(f'y_test_premium shape: {y_test_premium.shape}')\n",
    "\n",
    "# Linear Regression for TotalPremium\n",
    "model_lr_premium = LinearRegression()\n",
    "model_lr_premium.fit(X_train_subset, y_train_premium)\n",
    "y_pred_lr_premium = model_lr_premium.predict(X_test_subset)\n",
    "print(f'Linear Regression (Premium) RMSE: {np.sqrt(mean_squared_error(y_test_premium, y_pred_lr_premium))}')\n",
    "print(f'Linear Regression (Premium) R^2: {r2_score(y_test_premium, y_pred_lr_premium)}')\n",
    "\n",
    "# Random Forest for TotalPremium\n",
    "model_rf_premium = RandomForestRegressor(n_estimators=100, random_state=42)\n",
    "model_rf_premium.fit(X_train_subset, y_train_premium)\n",
    "y_pred_rf_premium = model_rf_premium.predict(X_test_subset)\n",
    "print(f'Random Forest (Premium) RMSE: {np.sqrt(mean_squared_error(y_test_premium, y_pred_rf_premium))}')\n",
    "print(f'Random Forest (Premium) R^2: {r2_score(y_test_premium, y_pred_rf_premium)}')\n",
    "\n",
    "# XGBoost for TotalPremium\n",
    "model_xgb_premium = xgb.XGBRegressor(objective='reg:squarederror', n_estimators=100, random_state=42)\n",
    "model_xgb_premium.fit(X_train_subset, y_train_premium)\n",
    "y_pred_xgb_premium = model_xgb_premium.predict(X_test_subset)\n",
    "print(f'XGBoost (Premium) RMSE: {np.sqrt(mean_squared_error(y_test_premium, y_pred_xgb_premium))}')\n",
    "print(f'XGBoost (Premium) R^2: {r2_score(y_test_premium, y_pred_xgb_premium)}')\n"
   ]
  },
  {
   "cell_type": "markdown",
   "metadata": {},
   "source": [
    "<font size='5'><b>Feature Importance Analysis</b></font>"
   ]
  },
  {
   "cell_type": "code",
   "execution_count": 33,
   "metadata": {},
   "outputs": [],
   "source": [
    "feature_names = X_subset.columns if hasattr(X_subset, 'columns') else ['feature_' + str(i) for i in range(X_subset.shape[1])]\n"
   ]
  },
  {
   "cell_type": "code",
   "execution_count": null,
   "metadata": {},
   "outputs": [],
   "source": [
    "import shap\n",
    "\n",
    "X_test_df = pd.DataFrame(X_test_subset, columns=feature_names)\n",
    "\n",
    "# For Random Forest\n",
    "explainer_rf = shap.TreeExplainer(model_rf_premium)\n",
    "shap_values_rf = explainer_rf.shap_values(X_test_df)\n",
    "\n",
    "# Summary plot for Random Forest\n",
    "shap.summary_plot(shap_values_rf, X_test_df, feature_names=feature_names)\n",
    "\n",
    "# For XGBoost\n",
    "explainer_xgb = shap.TreeExplainer(model_xgb_premium)\n",
    "shap_values_xgb = explainer_xgb.shap_values(X_test_df)\n",
    "\n",
    "# Summary plot for XGBoost\n",
    "shap.summary_plot(shap_values_xgb, X_test_df, feature_names=feature_names)\n"
   ]
  }
 ],
 "metadata": {
  "kernelspec": {
   "display_name": "Python 3",
   "language": "python",
   "name": "python3"
  },
  "language_info": {
   "codemirror_mode": {
    "name": "ipython",
    "version": 3
   },
   "file_extension": ".py",
   "mimetype": "text/x-python",
   "name": "python",
   "nbconvert_exporter": "python",
   "pygments_lexer": "ipython3",
   "version": "3.10.5"
  }
 },
 "nbformat": 4,
 "nbformat_minor": 2
}
